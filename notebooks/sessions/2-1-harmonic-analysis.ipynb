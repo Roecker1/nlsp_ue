{
 "cells": [
  {
   "cell_type": "markdown",
   "metadata": {
    "collapsed": true,
    "pycharm": {
     "name": "#%% md\n"
    }
   },
   "source": [
    "# Harmonic Analysis of Memoryless Systems\n",
    "\n",
    "In this notebook we take a look at the effect of a static nonlinearity on the frequency spectrum of an input signal by\n",
    "the example of a quantizer. First, the necessary imports."
   ]
  },
  {
   "cell_type": "code",
   "execution_count": null,
   "metadata": {
    "pycharm": {
     "name": "#%%\n"
    }
   },
   "outputs": [],
   "source": [
    "%reload_ext autoreload\n",
    "%autoreload 2\n",
    "import matplotlib.pyplot as plt\n",
    "import numpy as np\n",
    "\n",
    "from src.utils.dft import dft\n",
    "from src.utils.io import load_audio, save_audio\n",
    "from src.utils.plotting import init_plot_style\n",
    "\n",
    "init_plot_style()"
   ]
  },
  {
   "cell_type": "markdown",
   "source": [
    "Let us also look at the input/output response of the quantizer."
   ],
   "metadata": {
    "collapsed": false,
    "pycharm": {
     "name": "#%% md\n"
    }
   }
  },
  {
   "cell_type": "code",
   "execution_count": null,
   "outputs": [],
   "source": [
    "def quantizer(x, bitwidth=1, input_range=(-1.0, 1.0)):\n",
    "    \"\"\"A variable-bitwidth quantizer.\n",
    "\n",
    "    Parameters\n",
    "    ----------\n",
    "    x : float or numpy.ndarray\n",
    "        The input signal.\n",
    "    bitwidth : int\n",
    "        The bitwidth of the quantizer determining its resolution, i.e., the quantizer\n",
    "        can represent 2^bitwidth output levels.\n",
    "    input_range : tuple\n",
    "        Tuple that determines the input range of the quantizer as (x_min, x_max).\n",
    "\n",
    "    Returns\n",
    "    ------\n",
    "    float or numpy.ndarray\n",
    "        The quantized input.\n",
    "    \"\"\"\n",
    "    bin_size = (input_range[1] - input_range[0]) / 2**bitwidth\n",
    "    bin_edges = np.arange(0, 2**bitwidth + 1) * bin_size + input_range[0]\n",
    "    levels = np.arange(0, 2**bitwidth) * bin_size + bin_size/2 + input_range[0]\n",
    "\n",
    "    bin_idc = np.digitize(x, bin_edges) - 1\n",
    "    bin_idc[bin_idc >= len(levels)] = len(levels) -1\n",
    "    y = levels[bin_idc]\n",
    "    return y\n",
    "\n",
    "# sample support and compute system output\n",
    "support = np.linspace(-1, 1, 1000)\n",
    "response = quantizer(support, bitwidth=3)\n",
    "\n",
    "# plot the input/output behavior\n",
    "plt.figure(figsize=(12,6))\n",
    "plt.plot(support, response)\n",
    "plt.xlabel('Input, $x$')\n",
    "plt.ylabel('Output, $y$')\n",
    "plt.tight_layout()"
   ],
   "metadata": {
    "collapsed": false,
    "pycharm": {
     "name": "#%%\n"
    }
   }
  },
  {
   "cell_type": "markdown",
   "metadata": {
    "pycharm": {
     "name": "#%% md\n"
    }
   },
   "source": [
    "To examine the frequency domain effects of the quantizer we first generate a sinusoidal test signal."
   ]
  },
  {
   "cell_type": "code",
   "execution_count": null,
   "metadata": {
    "pycharm": {
     "name": "#%%\n"
    }
   },
   "outputs": [],
   "source": [
    "# test signal parameters\n",
    "f0 = 1 # signal frequency in Hz\n",
    "fs = 50 # sampling frequency in Hz\n",
    "num_samples = 500 # number of samples to generate\n",
    "\n",
    "# generate the test signal\n",
    "sample_times = np.linspace(0, num_samples/fs, num_samples)\n",
    "test_signal = np.sin(2*np.pi*f0 * sample_times)\n",
    "\n",
    "# plot the test signal\n",
    "plt.figure(figsize=(12,6))\n",
    "plt.plot(sample_times, test_signal)\n",
    "plt.xlabel(r'Time in s, $t$')\n",
    "plt.ylabel(r'Test Signal, $x$')\n",
    "plt.tight_layout()\n",
    "\n",
    "# plot the test signal's magnitude response\n",
    "X, f = dft(test_signal, fs=fs, n_dft=2048)\n",
    "plt.figure(figsize=(12,6))\n",
    "plt.plot(f,X)\n",
    "plt.xlabel(r'Frequency in Hz, $f$')\n",
    "plt.ylabel(r'DTFT Magnitude, $|X(e^{j\\theta})|$')\n",
    "plt.tight_layout()\n"
   ]
  },
  {
   "cell_type": "markdown",
   "source": [
    "Now, we'll send our test signal through the quantizer and look at the time domain output."
   ],
   "metadata": {
    "collapsed": false
   }
  },
  {
   "cell_type": "code",
   "execution_count": null,
   "outputs": [],
   "source": [
    "output_signal = quantizer(test_signal, bitwidth=1)\n",
    "\n",
    "plt.figure(figsize=(12,6))\n",
    "plt.plot(sample_times, test_signal, label='Test Signal')\n",
    "plt.plot(sample_times, output_signal, label='Output Signal')\n",
    "plt.xlabel('Time in s, $t$')\n",
    "plt.ylabel('Signal Level')\n",
    "plt.legend()\n",
    "plt.tight_layout()"
   ],
   "metadata": {
    "collapsed": false,
    "pycharm": {
     "name": "#%%\n"
    }
   }
  },
  {
   "cell_type": "markdown",
   "source": [
    "Finally, we can compare the spectra of our test and output signals."
   ],
   "metadata": {
    "collapsed": false,
    "pycharm": {
     "name": "#%% md\n"
    }
   }
  },
  {
   "cell_type": "code",
   "execution_count": null,
   "outputs": [],
   "source": [
    "Y, f = dft(output_signal, fs=fs, n_dft=2048)\n",
    "\n",
    "plt.figure(figsize=(12,6))\n",
    "plt.plot(f, X, label='Input Spectrum')\n",
    "plt.plot(f, Y, label='Output Spectrum')\n",
    "plt.xlabel('Frequency in Hz, $f$')\n",
    "plt.ylabel('DTFT Magnitude')\n",
    "plt.minorticks_on()\n",
    "plt.legend()\n",
    "plt.tight_layout()"
   ],
   "metadata": {
    "collapsed": false,
    "pycharm": {
     "name": "#%%\n"
    }
   }
  },
  {
   "cell_type": "markdown",
   "source": [
    "Bonus: if you want to really *experience* nonlinearity (here: the quantizer), you can simply run your favorite song\n",
    "through the quantizer an have a listen."
   ],
   "metadata": {
    "collapsed": false,
    "pycharm": {
     "name": "#%% md\n"
    }
   }
  },
  {
   "cell_type": "code",
   "execution_count": null,
   "outputs": [],
   "source": [
    "data_dir = '../../data/sound/'\n",
    "input_file = 'some-file.mp3'\n",
    "output_file = 'some-file-quantized.mp3'\n",
    "original_audio, samplerate = load_audio(data_dir + input_file)\n",
    "distorted_audio = quantizer(original_audio, bitwidth=5)\n",
    "save_audio(data_dir + output_file, distorted_audio, samplerate)\n",
    "\n"
   ],
   "metadata": {
    "collapsed": false,
    "pycharm": {
     "name": "#%%\n"
    }
   }
  }
 ],
 "metadata": {
  "kernelspec": {
   "display_name": "Python 3",
   "language": "python",
   "name": "python3"
  },
  "language_info": {
   "codemirror_mode": {
    "name": "ipython",
    "version": 3
   },
   "file_extension": ".py",
   "mimetype": "text/x-python",
   "name": "python",
   "nbconvert_exporter": "python",
   "pygments_lexer": "ipython3",
   "version": "3.7.9"
  }
 },
 "nbformat": 4,
 "nbformat_minor": 1
}