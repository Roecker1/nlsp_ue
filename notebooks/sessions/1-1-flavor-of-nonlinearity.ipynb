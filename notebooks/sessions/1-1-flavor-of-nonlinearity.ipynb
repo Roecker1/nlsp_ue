{
 "cells": [
  {
   "cell_type": "markdown",
   "metadata": {
    "collapsed": true,
    "pycharm": {
     "name": "#%% md\n"
    }
   },
   "source": [
    "# A Flavor of Nonlinearity\n",
    "\n",
    "Are nonlinearities a nuisance or blessing? We will get into the topic with an image filtering example. "
   ]
  },
  {
   "cell_type": "code",
   "execution_count": null,
   "metadata": {
    "pycharm": {
     "name": "#%%\n"
    }
   },
   "outputs": [],
   "source": [
    "%reload_ext autoreload\n",
    "%autoreload 2\n",
    "import numpy as np\n",
    "import scipy.signal as ss\n",
    "\n",
    "from src.utils.io import load_image\n",
    "from src.utils.plotting import show_grayscale_img\n"
   ]
  },
  {
   "cell_type": "markdown",
   "metadata": {
    "pycharm": {
     "name": "#%% md\n"
    }
   },
   "source": [
    "First, let's take a look at our original image. (Photo by Mateja Lemic from Pexels)"
   ]
  },
  {
   "cell_type": "code",
   "execution_count": null,
   "metadata": {
    "pycharm": {
     "name": "#%%\n"
    }
   },
   "outputs": [],
   "source": [
    "img = load_image(\"../../data/img/puppies.png\")\n",
    "\n",
    "height, width = img.shape\n",
    "print(f'Our image format is {width} x {height}.')\n",
    "\n",
    "show_grayscale_img(img)"
   ]
  },
  {
   "cell_type": "markdown",
   "metadata": {},
   "source": [
    "Now, we'll corrupt the image with some salt and pepper noise. To do so, we simply pick a fraction `p_noise` of the\n",
    "pixels uniformly at random and make them either black or white with a probability of 0.5."
   ]
  },
  {
   "cell_type": "code",
   "execution_count": null,
   "metadata": {
    "pycharm": {
     "name": "#%%\n"
    }
   },
   "outputs": [],
   "source": [
    "p_noise = 0.1 # fraction of individual pixel to be corrupted\n",
    "num_corrupted = int(height * width * p_noise) # number of corrupted pixels\n",
    "\n",
    "rng = np.random.default_rng()\n",
    "x_idc = rng.integers(0, width, size=num_corrupted)\n",
    "y_idc = rng.integers(0, height, size=num_corrupted)\n",
    "noise = rng.binomial(1, 0.5, num_corrupted)\n",
    "\n",
    "corrupted_img = np.array(img)\n",
    "corrupted_img[y_idc, x_idc] = 255 * noise\n",
    "\n",
    "show_grayscale_img(corrupted_img)"
   ]
  },
  {
   "cell_type": "markdown",
   "metadata": {},
   "source": [
    "Now, let's do a linear thing: we apply a mean filter! (Fortunately, it's just linearly mean^^). First, we define a\n",
    "certain quadratic neighborhood of size `k` (the filter kernel size), and then we assign each pixel in the filtered\n",
    "image the mean value of its surrounding neighborhood from the corrupted image. You surely have noticed that the edge\n",
    "pixels don't have a complete neighborhood. In this case we simply pad the image with zeros to avoid this issue."
   ]
  },
  {
   "cell_type": "code",
   "execution_count": null,
   "metadata": {
    "pycharm": {
     "name": "#%%\n"
    }
   },
   "outputs": [],
   "source": [
    "k = 3 # the neighborhood size, should be an odd number of pixels\n",
    "\n",
    "# create a zero-padded image\n",
    "padding = int((k-1)/2)\n",
    "padded_img = np.zeros((height + 2*padding, width + 2*padding), dtype=np.uint8)\n",
    "padded_img[padding:padding+height,padding:padding+width] = corrupted_img\n",
    "\n",
    "# apply the mean filter\n",
    "mean_kernel = np.ones((k,k)) / k**2 \n",
    "padded_img = padded_img.astype(float)\n",
    "filtered_img = ss.convolve(padded_img, mean_kernel, mode='valid').astype(np.uint8)\n",
    "\n",
    "show_grayscale_img(filtered_img)"
   ]
  },
  {
   "cell_type": "markdown",
   "metadata": {},
   "source": [
    "Now let's get nonlinear and compare this to a median filter! The procedure is the same as with mean filtering, except\n",
    "that a filtered pixel is not the mean of its neighborhood but the median. (Zero-padding ist done automatically by scipy\n",
    "this time.)"
   ]
  },
  {
   "cell_type": "code",
   "execution_count": null,
   "metadata": {
    "pycharm": {
     "name": "#%%\n"
    }
   },
   "outputs": [],
   "source": [
    "k = 3 # the neighborhood size, should be an odd number of pixels\n",
    "\n",
    "# apply median filter\n",
    "filtered_img = ss.medfilt2d(corrupted_img, kernel_size=k)\n",
    "\n",
    "show_grayscale_img(filtered_img)"
   ]
  }
 ],
 "metadata": {
  "kernelspec": {
   "display_name": "Python 3",
   "language": "python",
   "name": "python3"
  },
  "language_info": {
   "codemirror_mode": {
    "name": "ipython",
    "version": 3
   },
   "file_extension": ".py",
   "mimetype": "text/x-python",
   "name": "python",
   "nbconvert_exporter": "python",
   "pygments_lexer": "ipython3",
   "version": "3.7.9"
  }
 },
 "nbformat": 4,
 "nbformat_minor": 1
}