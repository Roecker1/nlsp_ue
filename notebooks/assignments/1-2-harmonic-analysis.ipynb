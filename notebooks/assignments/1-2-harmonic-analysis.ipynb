{
 "cells": [
  {
   "cell_type": "code",
   "execution_count": 2,
   "metadata": {},
   "outputs": [],
   "source": [
    "import numpy as np\n",
    "import matplotlib.pyplot as plt"
   ]
  },
  {
   "cell_type": "code",
   "execution_count": 11,
   "metadata": {},
   "outputs": [],
   "source": [
    "sigma = lambda x: 1/(1+np.exp(-x))\n",
    "sigma1 = lambda x: sigma(x)*(1-sigma(x))\n",
    "sigma2 = lambda x: sigma1(x)*(1-2*sigma(x))\n",
    "sigma3 = lambda x: sigma2(x)*(1-2*sigma(x))-2*sigma1(x)**2\n",
    "sigmas = [sigma, sigma1, sigma2, sigma3]"
   ]
  },
  {
   "cell_type": "code",
   "execution_count": 15,
   "metadata": {},
   "outputs": [
    {
     "name": "stdout",
     "output_type": "stream",
     "text": [
      "0.6666666666666666 0.22222222222222224 -0.07407407407407406 -0.0740740740740741\n"
     ]
    }
   ],
   "source": [
    "a = np.log(2)\n",
    "print(sigma(a), sigma1(a),sigma2(a), sigma3(a))"
   ]
  },
  {
   "cell_type": "code",
   "execution_count": null,
   "metadata": {},
   "outputs": [],
   "source": []
  }
 ],
 "metadata": {
  "kernelspec": {
   "display_name": "Python 3",
   "language": "python",
   "name": "python3"
  },
  "language_info": {
   "codemirror_mode": {
    "name": "ipython",
    "version": 3
   },
   "file_extension": ".py",
   "mimetype": "text/x-python",
   "name": "python",
   "nbconvert_exporter": "python",
   "pygments_lexer": "ipython3",
   "version": "3.9.2"
  },
  "orig_nbformat": 4,
  "vscode": {
   "interpreter": {
    "hash": "aee8b7b246df8f9039afb4144a1f6fd8d2ca17a180786b69acc140d282b71a49"
   }
  }
 },
 "nbformat": 4,
 "nbformat_minor": 2
}
