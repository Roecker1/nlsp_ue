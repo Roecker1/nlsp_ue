{
 "cells": [
  {
   "cell_type": "markdown",
   "metadata": {
    "collapsed": true,
    "pycharm": {
     "name": "#%% md\n"
    }
   },
   "source": [
    "# Assignment 1\n",
    "## Problem 1 - System Identification"
   ]
  },
  {
   "cell_type": "code",
   "execution_count": null,
   "metadata": {
    "pycharm": {
     "name": "#%%\n"
    }
   },
   "outputs": [],
   "source": [
    "%reload_ext autoreload\n",
    "%autoreload 2\n",
    "import matplotlib.pyplot as plt\n",
    "import pandas as pd\n",
    "import torch\n",
    "import numpy as np\n",
    "\n",
    "from src.models.mls_models import PolynomialModel\n",
    "from src.utils.plotting import init_plot_style\n",
    "# %pylab\n",
    "\n",
    "init_plot_style()\n",
    "data_dir='../../data/csv/1_1_system_identification/'"
   ]
  },
  {
   "cell_type": "markdown",
   "metadata": {},
   "source": [
    "First, let's take a look at the training and test data."
   ]
  },
  {
   "cell_type": "code",
   "execution_count": null,
   "metadata": {
    "pycharm": {
     "name": "#%%\n"
    }
   },
   "outputs": [],
   "source": [
    "train_data = pd.read_csv(data_dir + 'training-set.csv').to_numpy()\n",
    "x_train, y_train = train_data[:,0], train_data[:,1]\n",
    "print(f'Number of train samples is {len(x_train)}.')\n",
    "\n",
    "test_data = pd.read_csv(data_dir + 'test-set.csv').to_numpy()\n",
    "x_test, y_test = test_data[:,0], test_data[:,1]\n",
    "print(f'Number of test samples is {len(x_test)}.')\n",
    "\n",
    "plt.close('all')\n",
    "plt.figure()\n",
    "plt.plot(x_train, y_train, 'x', label='Training Set')\n",
    "plt.plot(x_test, y_test, '^', label='Test Set')\n",
    "plt.legend()\n",
    "plt.tight_layout()\n"
   ]
  },
  {
   "cell_type": "markdown",
   "source": [
    "Fit and evaluate a polynomial model of varying order."
   ],
   "metadata": {
    "collapsed": false,
    "pycharm": {
     "name": "#%% md\n"
    }
   }
  },
  {
   "cell_type": "code",
   "execution_count": null,
   "outputs": [],
   "source": [
    "max_order = 5\n",
    "model_class = PolynomialModel\n",
    "\n",
    "train_mse_list = []\n",
    "test_mse_list = []\n",
    "for order in range(1, max_order+1):\n",
    "    model = model_class(order)\n",
    "    train_mse_list.append(model.fit(x_train, y_train))\n",
    "    test_mse = np.mean((model.predict(x_test) - y_test)**2)\n",
    "    test_mse_list.append(test_mse)\n",
    "\n",
    "best_train_order = np.argmin(np.array(train_mse_list)) + 1\n",
    "print(f'Best train model has order {best_train_order} with train/test MSE is {train_mse_list[best_train_order-1]} / {test_mse_list[best_train_order-1]}.')\n",
    "\n",
    "best_test_order = np.argmin(np.array(test_mse_list)) + 1\n",
    "print(f'Best test model has order {best_test_order} with train/test MSE is {train_mse_list[best_test_order-1]} / {test_mse_list[best_test_order-1]}.')\n",
    "\n",
    "plt.close('all')\n",
    "plt.figure()\n",
    "plt.plot(list(range(1,max_order+1)), train_mse_list, 'x--', label='Train MSE')\n",
    "plt.plot(list(range(1,max_order+1)), test_mse_list, 'o--', label='Test MSE')\n",
    "plt.legend()\n",
    "plt.xlabel('Model Order')\n",
    "plt.ylabel('MSE')\n",
    "plt.tight_layout()"
   ],
   "metadata": {
    "collapsed": false,
    "pycharm": {
     "name": "#%%\n"
    }
   }
  },
  {
   "cell_type": "markdown",
   "source": [
    "Compare the best train and test models."
   ],
   "metadata": {
    "collapsed": false
   }
  },
  {
   "cell_type": "code",
   "execution_count": null,
   "outputs": [],
   "source": [
    "best_train_model = model_class(best_train_order)\n",
    "_ = best_train_model.fit(x_train, y_train)\n",
    "\n",
    "best_test_model = model_class(best_test_order)\n",
    "_ = best_test_model.fit(x_train, y_train)\n",
    "\n",
    "\n",
    "x_support = torch.linspace(-10., 10., 100).numpy()\n",
    "plt.close('all')\n",
    "plt.figure()\n",
    "plt.plot(x_support, best_train_model.predict(x_support), label='Best Train Model')\n",
    "plt.plot(x_support, best_test_model.predict(x_support), label='Best Test Model')\n",
    "plt.plot(x_train, y_train, 'x', label='Training Data')\n",
    "plt.plot(x_test, y_test, '^', label='Test Data')\n",
    "plt.legend()\n",
    "plt.xlabel('Input, x')\n",
    "plt.ylabel('Output, y')\n",
    "plt.ylim([-3, 4])\n",
    "plt.tight_layout()"
   ],
   "metadata": {
    "collapsed": false,
    "pycharm": {
     "name": "#%%\n"
    }
   }
  }
 ],
 "metadata": {
  "kernelspec": {
   "display_name": "Python 3",
   "language": "python",
   "name": "python3"
  },
  "language_info": {
   "codemirror_mode": {
    "name": "ipython",
    "version": 3
   },
   "file_extension": ".py",
   "mimetype": "text/x-python",
   "name": "python",
   "nbconvert_exporter": "python",
   "pygments_lexer": "ipython3",
   "version": "3.7.9"
  }
 },
 "nbformat": 4,
 "nbformat_minor": 1
}