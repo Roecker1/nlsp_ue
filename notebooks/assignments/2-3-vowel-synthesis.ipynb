{
 "cells": [
  {
   "cell_type": "markdown",
   "metadata": {},
   "source": [
    "# Assignment 3\n",
    "# Vowel Synthesis with Wavenet\n",
    "\n",
    "In this notebook we explore a modified version (deterministic output layer) of the WaveNet architecture and try to\n",
    "synthesize a vowel sound.\n",
    "\n",
    "First, the imports."
   ]
  },
  {
   "cell_type": "code",
   "execution_count": null,
   "metadata": {},
   "outputs": [],
   "source": [
    "%reload_ext autoreload\n",
    "%autoreload 2\n",
    "import IPython.display as ipd\n",
    "import matplotlib.pyplot as plt\n",
    "import torch\n",
    "import torch.nn.functional as F\n",
    "import torch.optim as optim\n",
    "import torchaudio\n",
    "# torchaudio.set_audio_backend('soundfile')\n",
    "from tqdm.notebook import tqdm\n",
    "\n",
    "from src.models.wavenet_deterministic import WaveNetDeterministic\n",
    "from src.utils.plotting import init_plot_style\n",
    "\n",
    "init_plot_style()"
   ]
  },
  {
   "cell_type": "markdown",
   "source": [
    "Here we load the training data (vowel recordings) and convert the sample rate accordingly."
   ],
   "metadata": {
    "collapsed": false,
    "pycharm": {
     "name": "#%% md\n"
    }
   }
  },
  {
   "cell_type": "code",
   "execution_count": null,
   "metadata": {
    "pycharm": {
     "name": "#%%\n"
    }
   },
   "outputs": [],
   "source": [
    "files = ['../../data/audio/vowels/vowel_a_01.wav',\n",
    "         '../../data/audio/vowels/vowel_a_02.wav']\n",
    "\n",
    "# prepare data\n",
    "sample_rate = 8000\n",
    "\n",
    "min_len = None\n",
    "data = []\n",
    "for file in files:\n",
    "    vowel, orig_sample_rate = torchaudio.load(file)\n",
    "    resampler = torchaudio.transforms.Resample(orig_freq=orig_sample_rate, new_freq=sample_rate)\n",
    "    vowel = resampler(vowel)\n",
    "    min_len = vowel.shape[-1] if min_len is None or vowel.shape[-1] < min_len else min_len\n",
    "    data.append(vowel)\n",
    "\n",
    "data = torch.stack([seq[:, :min_len] for seq in data])\n",
    "print(f'Sequence length is {data.shape[-1]} samples ({data.shape[-1] / sample_rate:.2f}s)')\n",
    "ipd.Audio(data[0].squeeze().numpy(), rate=sample_rate)\n"
   ]
  },
  {
   "cell_type": "markdown",
   "source": [
    "Let's also have a look at the time domain vowel signal(s)."
   ],
   "metadata": {
    "collapsed": false,
    "pycharm": {
     "name": "#%% md\n"
    }
   }
  },
  {
   "cell_type": "code",
   "execution_count": null,
   "metadata": {
    "pycharm": {
     "name": "#%%\n"
    }
   },
   "outputs": [],
   "source": [
    "plt.figure()\n",
    "plt.plot(torch.arange(256) / sample_rate, data[0].squeeze()[0:256])\n",
    "plt.xlabel('Time, $s$')\n",
    "plt.ylabel('Vowel Signal')\n",
    "plt.tight_layout()"
   ]
  },
  {
   "cell_type": "markdown",
   "source": [
    "Next, we create an instance of our modified WaveNet. We also generate the context vectors and the targets for training."
   ],
   "metadata": {
    "collapsed": false,
    "pycharm": {
     "name": "#%% md\n"
    }
   }
  },
  {
   "cell_type": "code",
   "execution_count": null,
   "metadata": {
    "pycharm": {
     "name": "#%%\n"
    }
   },
   "outputs": [],
   "source": [
    "# create the wavenet\n",
    "wavenet = WaveNetDeterministic(blocks_per_cell=8, num_cells=1, num_kernels=20)\n",
    "print(f'Receptive Field of WaveNet is {wavenet.receptive_field} samples')\n",
    "\n",
    "# create target tensor\n",
    "targets = data[:, :, wavenet.receptive_field + 1:]"
   ]
  },
  {
   "cell_type": "markdown",
   "metadata": {
    "pycharm": {
     "name": "#%% md\n"
    }
   },
   "source": [
    "Now we can train and evaluate our model."
   ]
  },
  {
   "cell_type": "code",
   "execution_count": null,
   "metadata": {
    "pycharm": {
     "name": "#%%\n"
    }
   },
   "outputs": [],
   "source": [
    "# training setup\n",
    "log_interval = 50  # log training stats after so many epochs\n",
    "num_epochs = 500  # number of epochs to train\n",
    "\n",
    "# define and parameterize the optimizer\n",
    "optimizer = optim.RMSprop(wavenet.parameters(), lr=5e-4, weight_decay=1e-8)\n",
    "# scheduler = optim.lr_scheduler.StepLR(optimizer, step_size=50, gamma=0.8)\n",
    "scheduler = optim.lr_scheduler.MultiStepLR(optimizer, [10, 50, 300, 800, 2000], gamma=0.8)\n",
    "\n",
    "# set up the progress bar\n",
    "with tqdm(total=num_epochs) as pbar:\n",
    "    # train the network\n",
    "    loss_list = []\n",
    "    for epoch in range(1, num_epochs + 1):\n",
    "        wavenet.train()  # puts the model into train mode\n",
    "\n",
    "        # compute training loss\n",
    "        predictions = wavenet(data)[:, :, wavenet.receptive_field:-1]\n",
    "        train_loss = torch.nn.functional.mse_loss(predictions, targets)\n",
    "\n",
    "        # optimize the network parameters\n",
    "        optimizer.zero_grad()\n",
    "        train_loss.backward()\n",
    "        optimizer.step()\n",
    "\n",
    "        # record the training set MSE after each epoch\n",
    "        loss_list.append(train_loss.detach().numpy())\n",
    "\n",
    "        # print training stats\n",
    "        print(f'Training epoch {epoch}/{num_epochs}'\n",
    "              f'({100. * epoch / num_epochs:.0f}%)]\\tLoss: {train_loss.item():.5f}', end='\\r')\n",
    "        if epoch % log_interval == 0:\n",
    "            print(''\n",
    "                  )\n",
    "        # update progress bar\n",
    "        pbar.update(1.)\n",
    "\n",
    "        scheduler.step()\n",
    "\n",
    "# plot training loss over the iterations\n",
    "plt.figure()\n",
    "plt.plot(loss_list)\n",
    "plt.xlabel('Epochs')\n",
    "plt.ylabel('MSE Loss')\n",
    "plt.semilogy()\n",
    "plt.tight_layout()\n"
   ]
  },
  {
   "cell_type": "markdown",
   "metadata": {
    "pycharm": {
     "name": "#%% md\n"
    }
   },
   "source": [
    "Let's see how well our WaveNet fits a given vowel sound by comparing parts of both signals in time domain."
   ]
  },
  {
   "cell_type": "code",
   "execution_count": null,
   "metadata": {
    "pycharm": {
     "name": "#%%\n"
    }
   },
   "outputs": [],
   "source": [
    "idx = 0 # select sample from the training set\n",
    "prediction = wavenet(data[idx, :, :].unsqueeze(0))\n",
    "\n",
    "# plot params\n",
    "offset = wavenet.receptive_field\n",
    "span = 100\n",
    "\n",
    "# plot the signals\n",
    "plt.figure()\n",
    "plt.plot(data[idx, :, :].squeeze()[offset + 1:offset + 1 + span], label='True Signal (Vowel)')\n",
    "plt.plot(prediction.squeeze().detach()[offset:offset + span], label='Prediction')\n",
    "plt.xlabel('Sample index, $n$')\n",
    "plt.ylabel('Signal')\n",
    "plt.legend()\n",
    "plt.tight_layout()"
   ]
  },
  {
   "cell_type": "markdown",
   "source": [
    "Can you hear a difference between the original recording and WaveNet's prediction?"
   ],
   "metadata": {
    "collapsed": false,
    "pycharm": {
     "name": "#%% md\n"
    }
   }
  },
  {
   "cell_type": "code",
   "execution_count": null,
   "outputs": [],
   "source": [
    "# ipd.Audio(data[idx].squeeze().detach().numpy(), rate=sample_rate)\n",
    "ipd.Audio(prediction.squeeze().detach().numpy(), rate=sample_rate)"
   ],
   "metadata": {
    "collapsed": false,
    "pycharm": {
     "name": "#%%\n"
    }
   }
  },
  {
   "cell_type": "markdown",
   "source": [
    "Finally, we can generate a vowel signal with our trained wavenet!"
   ],
   "metadata": {
    "collapsed": false,
    "pycharm": {
     "name": "#%% md\n"
    }
   }
  },
  {
   "cell_type": "code",
   "execution_count": null,
   "metadata": {
    "pycharm": {
     "name": "#%%\n"
    }
   },
   "outputs": [],
   "source": [
    "with torch.no_grad():\n",
    "    signal = wavenet.generate(5000, data[0, :, :wavenet.receptive_field].unsqueeze(0))"
   ]
  },
  {
   "cell_type": "markdown",
   "source": [
    "It's also interesting to look at the generated waveform in time domain."
   ],
   "metadata": {
    "collapsed": false,
    "pycharm": {
     "name": "#%% md\n"
    }
   }
  },
  {
   "cell_type": "code",
   "execution_count": null,
   "outputs": [],
   "source": [
    "offset = 0\n",
    "span = 200\n",
    "plt.figure()\n",
    "plt.plot((offset + torch.arange(span)) / sample_rate, signal.squeeze().detach()[offset:offset+span])\n",
    "plt.xlabel('Time, $s$')\n",
    "plt.ylabel('Generated Signal')\n",
    "plt.tight_layout()\n"
   ],
   "metadata": {
    "collapsed": false,
    "pycharm": {
     "name": "#%%\n"
    }
   }
  },
  {
   "cell_type": "markdown",
   "source": [
    "Well, our WaveNet may not sound like Caruso, but still..\n",
    "We repeat the generated signal for convenience."
   ],
   "metadata": {
    "collapsed": false,
    "pycharm": {
     "name": "#%% md\n"
    }
   }
  },
  {
   "cell_type": "code",
   "execution_count": null,
   "metadata": {
    "pycharm": {
     "name": "#%%\n"
    }
   },
   "outputs": [],
   "source": [
    "initial_cutoff = 0\n",
    "num_repetitions = 10\n",
    "\n",
    "signal = signal.squeeze()[initial_cutoff:]\n",
    "signal_repeated = signal.view(1, -1).repeat(1, 1 + num_repetitions)\n",
    "ipd.Audio(signal_repeated.detach().numpy(), rate=sample_rate)\n",
    "\n"
   ]
  }
 ],
 "metadata": {
  "kernelspec": {
   "display_name": "Python 3",
   "language": "python",
   "name": "python3"
  },
  "language_info": {
   "codemirror_mode": {
    "name": "ipython",
    "version": 3
   },
   "file_extension": ".py",
   "mimetype": "text/x-python",
   "name": "python",
   "nbconvert_exporter": "python",
   "pygments_lexer": "ipython3",
   "version": "3.7.9"
  }
 },
 "nbformat": 4,
 "nbformat_minor": 1
}